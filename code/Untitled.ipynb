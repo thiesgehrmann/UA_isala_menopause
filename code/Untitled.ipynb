{
 "cells": [
  {
   "cell_type": "code",
   "execution_count": 5,
   "id": "f5f07db7-7586-4067-9335-823677fc222c",
   "metadata": {},
   "outputs": [],
   "source": [
    "#devtools::install_local('~/repos/devel//multidiffabundance', force=T, dependencies=F)\n",
    "library(multidiffabundance)"
   ]
  },
  {
   "cell_type": "code",
   "execution_count": 28,
   "id": "c6fbea85-bbd9-41e6-8521-a30d9d2dbd0b",
   "metadata": {},
   "outputs": [],
   "source": [
    "D <- mda.from_cmdargs(c(\n",
    "    '/home/thies/repos/UA_isala/menopause/processing/mda/input_counts.tsv',\n",
    "    '/home/thies/repos/UA_isala/menopause/processing/mda/input_meta.tsv',\n",
    "    '/home/thies/repos/UA_isala/menopause/processing/mda/input_formulas.txt',\n",
    "    '/home/thies/repos/UA_isala/menopause/processing/output_alpha'), recache=T)"
   ]
  },
  {
   "cell_type": "code",
   "execution_count": 31,
   "id": "918792ed-9e8c-4504-bb7a-65d3f0b98ced",
   "metadata": {},
   "outputs": [
    {
     "name": "stderr",
     "output_type": "stream",
     "text": [
      "[MDA] CacheStore: alpha.shannon, MenopauseTRUE (5ab71794c6ec9311491be05063b92052-0.1_alpha.shannon_4368d9c857cd304633dd2a8814524c79.rds)\n",
      "\n"
     ]
    }
   ],
   "source": [
    "R <- mda.alpha(D)"
   ]
  },
  {
   "cell_type": "code",
   "execution_count": 32,
   "id": "443b3af1-21fb-477c-8fcb-6b03413cc31e",
   "metadata": {},
   "outputs": [
    {
     "data": {
      "text/html": [
       "<table class=\"dataframe\">\n",
       "<caption>A data.frame: 11 × 13</caption>\n",
       "<thead>\n",
       "\t<tr><th scope=col>taxa</th><th scope=col>variable</th><th scope=col>effectsize</th><th scope=col>se</th><th scope=col>stat</th><th scope=col>pvalue</th><th scope=col>qvalue.withinformula</th><th scope=col>qvalue</th><th scope=col>formula</th><th scope=col>method</th><th scope=col>n</th><th scope=col>freq</th><th scope=col>comment</th></tr>\n",
       "\t<tr><th scope=col>&lt;chr&gt;</th><th scope=col>&lt;chr&gt;</th><th scope=col>&lt;dbl&gt;</th><th scope=col>&lt;dbl&gt;</th><th scope=col>&lt;dbl&gt;</th><th scope=col>&lt;dbl&gt;</th><th scope=col>&lt;dbl&gt;</th><th scope=col>&lt;dbl&gt;</th><th scope=col>&lt;chr&gt;</th><th scope=col>&lt;chr&gt;</th><th scope=col>&lt;chr&gt;</th><th scope=col>&lt;chr&gt;</th><th scope=col>&lt;list&gt;</th></tr>\n",
       "</thead>\n",
       "<tbody>\n",
       "\t<tr><td>mda.alpha.shannon</td><td>(Intercept)                                     </td><td> 0.163932981</td><td>0.27654761</td><td> 0.59278393</td><td>5.534274e-01</td><td>7.851153e-01</td><td>7.851153e-01</td><td>~MenopauseTRUE + Reproductive.Contraception.Hormonal.3monthsTRUE + Health.Medication.Menopause.HRTTRUE + Reproductive.Pregnancy.n + General.Highest.Education.SecondaryeducationTRUE + General.Highest.Education.PhDTRUE + General.Highest.Education.CollegeTRUE + General.Highest.Education.UniversityTRUE + General.Age + Lifestyle.Drugs.Current_smokerTRUE</td><td>alpha</td><td>NA  </td><td>NA           </td><td>NA</td></tr>\n",
       "\t<tr><td>mda.alpha.shannon</td><td>MenopauseTRUE                                   </td><td> 0.152201699</td><td>0.12716896</td><td> 1.19684629</td><td>2.315815e-01</td><td>6.368492e-01</td><td>6.368492e-01</td><td>~MenopauseTRUE + Reproductive.Contraception.Hormonal.3monthsTRUE + Health.Medication.Menopause.HRTTRUE + Reproductive.Pregnancy.n + General.Highest.Education.SecondaryeducationTRUE + General.Highest.Education.PhDTRUE + General.Highest.Education.CollegeTRUE + General.Highest.Education.UniversityTRUE + General.Age + Lifestyle.Drugs.Current_smokerTRUE</td><td>alpha</td><td>1330</td><td>0:1221, 1:109</td><td>NA</td></tr>\n",
       "\t<tr><td>mda.alpha.shannon</td><td>Reproductive.Contraception.Hormonal.3monthsTRUE </td><td> 0.127273787</td><td>0.06982832</td><td> 1.82266720</td><td>6.858011e-02</td><td>2.514604e-01</td><td>2.514604e-01</td><td>~MenopauseTRUE + Reproductive.Contraception.Hormonal.3monthsTRUE + Health.Medication.Menopause.HRTTRUE + Reproductive.Pregnancy.n + General.Highest.Education.SecondaryeducationTRUE + General.Highest.Education.PhDTRUE + General.Highest.Education.CollegeTRUE + General.Highest.Education.UniversityTRUE + General.Age + Lifestyle.Drugs.Current_smokerTRUE</td><td>alpha</td><td>1330</td><td>0:939, 1:391 </td><td>NA</td></tr>\n",
       "\t<tr><td>mda.alpha.shannon</td><td>Health.Medication.Menopause.HRTTRUE             </td><td>-0.027183988</td><td>0.59439221</td><td>-0.04573409</td><td>9.635291e-01</td><td>9.635291e-01</td><td>9.635291e-01</td><td>~MenopauseTRUE + Reproductive.Contraception.Hormonal.3monthsTRUE + Health.Medication.Menopause.HRTTRUE + Reproductive.Pregnancy.n + General.Highest.Education.SecondaryeducationTRUE + General.Highest.Education.PhDTRUE + General.Highest.Education.CollegeTRUE + General.Highest.Education.UniversityTRUE + General.Age + Lifestyle.Drugs.Current_smokerTRUE</td><td>alpha</td><td>1330</td><td>0:1327, 1:3  </td><td>NA</td></tr>\n",
       "\t<tr><td>mda.alpha.shannon</td><td>Reproductive.Pregnancy.n                        </td><td> 0.001843695</td><td>0.03217071</td><td> 0.05730974</td><td>9.543071e-01</td><td>9.635291e-01</td><td>9.635291e-01</td><td>~MenopauseTRUE + Reproductive.Contraception.Hormonal.3monthsTRUE + Health.Medication.Menopause.HRTTRUE + Reproductive.Pregnancy.n + General.Highest.Education.SecondaryeducationTRUE + General.Highest.Education.PhDTRUE + General.Highest.Education.CollegeTRUE + General.Highest.Education.UniversityTRUE + General.Age + Lifestyle.Drugs.Current_smokerTRUE</td><td>alpha</td><td>1330</td><td>             </td><td>NA</td></tr>\n",
       "\t<tr><td>mda.alpha.shannon</td><td>General.Highest.Education.SecondaryeducationTRUE</td><td>-0.130712605</td><td>0.28140565</td><td>-0.46449886</td><td>6.423670e-01</td><td>7.851153e-01</td><td>7.851153e-01</td><td>~MenopauseTRUE + Reproductive.Contraception.Hormonal.3monthsTRUE + Health.Medication.Menopause.HRTTRUE + Reproductive.Pregnancy.n + General.Highest.Education.SecondaryeducationTRUE + General.Highest.Education.PhDTRUE + General.Highest.Education.CollegeTRUE + General.Highest.Education.UniversityTRUE + General.Age + Lifestyle.Drugs.Current_smokerTRUE</td><td>alpha</td><td>1330</td><td>0:1047, 1:283</td><td>NA</td></tr>\n",
       "\t<tr><td>mda.alpha.shannon</td><td>General.Highest.Education.PhDTRUE               </td><td> 0.146961508</td><td>0.31427565</td><td> 0.46761977</td><td>6.401338e-01</td><td>7.851153e-01</td><td>7.851153e-01</td><td>~MenopauseTRUE + Reproductive.Contraception.Hormonal.3monthsTRUE + Health.Medication.Menopause.HRTTRUE + Reproductive.Pregnancy.n + General.Highest.Education.SecondaryeducationTRUE + General.Highest.Education.PhDTRUE + General.Highest.Education.CollegeTRUE + General.Highest.Education.UniversityTRUE + General.Age + Lifestyle.Drugs.Current_smokerTRUE</td><td>alpha</td><td>1330</td><td>0:1284, 1:46 </td><td>NA</td></tr>\n",
       "\t<tr><td>mda.alpha.shannon</td><td>General.Highest.Education.CollegeTRUE           </td><td>-0.154516114</td><td>0.27914831</td><td>-0.55352696</td><td>5.799964e-01</td><td>7.851153e-01</td><td>7.851153e-01</td><td>~MenopauseTRUE + Reproductive.Contraception.Hormonal.3monthsTRUE + Health.Medication.Menopause.HRTTRUE + Reproductive.Pregnancy.n + General.Highest.Education.SecondaryeducationTRUE + General.Highest.Education.PhDTRUE + General.Highest.Education.CollegeTRUE + General.Highest.Education.UniversityTRUE + General.Age + Lifestyle.Drugs.Current_smokerTRUE</td><td>alpha</td><td>1330</td><td>0:862, 1:468 </td><td>NA</td></tr>\n",
       "\t<tr><td>mda.alpha.shannon</td><td>General.Highest.Education.UniversityTRUE        </td><td>-0.221477299</td><td>0.27878667</td><td>-0.79443287</td><td>4.270864e-01</td><td>7.851153e-01</td><td>7.851153e-01</td><td>~MenopauseTRUE + Reproductive.Contraception.Hormonal.3monthsTRUE + Health.Medication.Menopause.HRTTRUE + Reproductive.Pregnancy.n + General.Highest.Education.SecondaryeducationTRUE + General.Highest.Education.PhDTRUE + General.Highest.Education.CollegeTRUE + General.Highest.Education.UniversityTRUE + General.Age + Lifestyle.Drugs.Current_smokerTRUE</td><td>alpha</td><td>1330</td><td>0:811, 1:519 </td><td>NA</td></tr>\n",
       "\t<tr><td>mda.alpha.shannon</td><td>General.Age                                     </td><td> 0.187418007</td><td>0.03274892</td><td> 5.72287539</td><td>1.294841e-08</td><td>1.424325e-07</td><td>1.424325e-07</td><td>~MenopauseTRUE + Reproductive.Contraception.Hormonal.3monthsTRUE + Health.Medication.Menopause.HRTTRUE + Reproductive.Pregnancy.n + General.Highest.Education.SecondaryeducationTRUE + General.Highest.Education.PhDTRUE + General.Highest.Education.CollegeTRUE + General.Highest.Education.UniversityTRUE + General.Age + Lifestyle.Drugs.Current_smokerTRUE</td><td>alpha</td><td>1330</td><td>             </td><td>NA</td></tr>\n",
       "\t<tr><td>mda.alpha.shannon</td><td>Lifestyle.Drugs.Current_smokerTRUE              </td><td> 0.360197772</td><td>0.10563200</td><td> 3.40993038</td><td>6.694198e-04</td><td>3.681809e-03</td><td>3.681809e-03</td><td>~MenopauseTRUE + Reproductive.Contraception.Hormonal.3monthsTRUE + Health.Medication.Menopause.HRTTRUE + Reproductive.Pregnancy.n + General.Highest.Education.SecondaryeducationTRUE + General.Highest.Education.PhDTRUE + General.Highest.Education.CollegeTRUE + General.Highest.Education.UniversityTRUE + General.Age + Lifestyle.Drugs.Current_smokerTRUE</td><td>alpha</td><td>1330</td><td>0:1225, 1:105</td><td>NA</td></tr>\n",
       "</tbody>\n",
       "</table>\n"
      ],
      "text/latex": [
       "A data.frame: 11 × 13\n",
       "\\begin{tabular}{lllllllllllll}\n",
       " taxa & variable & effectsize & se & stat & pvalue & qvalue.withinformula & qvalue & formula & method & n & freq & comment\\\\\n",
       " <chr> & <chr> & <dbl> & <dbl> & <dbl> & <dbl> & <dbl> & <dbl> & <chr> & <chr> & <chr> & <chr> & <list>\\\\\n",
       "\\hline\n",
       "\t mda.alpha.shannon & (Intercept)                                      &  0.163932981 & 0.27654761 &  0.59278393 & 5.534274e-01 & 7.851153e-01 & 7.851153e-01 & \\textasciitilde{}MenopauseTRUE + Reproductive.Contraception.Hormonal.3monthsTRUE + Health.Medication.Menopause.HRTTRUE + Reproductive.Pregnancy.n + General.Highest.Education.SecondaryeducationTRUE + General.Highest.Education.PhDTRUE + General.Highest.Education.CollegeTRUE + General.Highest.Education.UniversityTRUE + General.Age + Lifestyle.Drugs.Current\\_smokerTRUE & alpha & NA   & NA            & NA\\\\\n",
       "\t mda.alpha.shannon & MenopauseTRUE                                    &  0.152201699 & 0.12716896 &  1.19684629 & 2.315815e-01 & 6.368492e-01 & 6.368492e-01 & \\textasciitilde{}MenopauseTRUE + Reproductive.Contraception.Hormonal.3monthsTRUE + Health.Medication.Menopause.HRTTRUE + Reproductive.Pregnancy.n + General.Highest.Education.SecondaryeducationTRUE + General.Highest.Education.PhDTRUE + General.Highest.Education.CollegeTRUE + General.Highest.Education.UniversityTRUE + General.Age + Lifestyle.Drugs.Current\\_smokerTRUE & alpha & 1330 & 0:1221, 1:109 & NA\\\\\n",
       "\t mda.alpha.shannon & Reproductive.Contraception.Hormonal.3monthsTRUE  &  0.127273787 & 0.06982832 &  1.82266720 & 6.858011e-02 & 2.514604e-01 & 2.514604e-01 & \\textasciitilde{}MenopauseTRUE + Reproductive.Contraception.Hormonal.3monthsTRUE + Health.Medication.Menopause.HRTTRUE + Reproductive.Pregnancy.n + General.Highest.Education.SecondaryeducationTRUE + General.Highest.Education.PhDTRUE + General.Highest.Education.CollegeTRUE + General.Highest.Education.UniversityTRUE + General.Age + Lifestyle.Drugs.Current\\_smokerTRUE & alpha & 1330 & 0:939, 1:391  & NA\\\\\n",
       "\t mda.alpha.shannon & Health.Medication.Menopause.HRTTRUE              & -0.027183988 & 0.59439221 & -0.04573409 & 9.635291e-01 & 9.635291e-01 & 9.635291e-01 & \\textasciitilde{}MenopauseTRUE + Reproductive.Contraception.Hormonal.3monthsTRUE + Health.Medication.Menopause.HRTTRUE + Reproductive.Pregnancy.n + General.Highest.Education.SecondaryeducationTRUE + General.Highest.Education.PhDTRUE + General.Highest.Education.CollegeTRUE + General.Highest.Education.UniversityTRUE + General.Age + Lifestyle.Drugs.Current\\_smokerTRUE & alpha & 1330 & 0:1327, 1:3   & NA\\\\\n",
       "\t mda.alpha.shannon & Reproductive.Pregnancy.n                         &  0.001843695 & 0.03217071 &  0.05730974 & 9.543071e-01 & 9.635291e-01 & 9.635291e-01 & \\textasciitilde{}MenopauseTRUE + Reproductive.Contraception.Hormonal.3monthsTRUE + Health.Medication.Menopause.HRTTRUE + Reproductive.Pregnancy.n + General.Highest.Education.SecondaryeducationTRUE + General.Highest.Education.PhDTRUE + General.Highest.Education.CollegeTRUE + General.Highest.Education.UniversityTRUE + General.Age + Lifestyle.Drugs.Current\\_smokerTRUE & alpha & 1330 &               & NA\\\\\n",
       "\t mda.alpha.shannon & General.Highest.Education.SecondaryeducationTRUE & -0.130712605 & 0.28140565 & -0.46449886 & 6.423670e-01 & 7.851153e-01 & 7.851153e-01 & \\textasciitilde{}MenopauseTRUE + Reproductive.Contraception.Hormonal.3monthsTRUE + Health.Medication.Menopause.HRTTRUE + Reproductive.Pregnancy.n + General.Highest.Education.SecondaryeducationTRUE + General.Highest.Education.PhDTRUE + General.Highest.Education.CollegeTRUE + General.Highest.Education.UniversityTRUE + General.Age + Lifestyle.Drugs.Current\\_smokerTRUE & alpha & 1330 & 0:1047, 1:283 & NA\\\\\n",
       "\t mda.alpha.shannon & General.Highest.Education.PhDTRUE                &  0.146961508 & 0.31427565 &  0.46761977 & 6.401338e-01 & 7.851153e-01 & 7.851153e-01 & \\textasciitilde{}MenopauseTRUE + Reproductive.Contraception.Hormonal.3monthsTRUE + Health.Medication.Menopause.HRTTRUE + Reproductive.Pregnancy.n + General.Highest.Education.SecondaryeducationTRUE + General.Highest.Education.PhDTRUE + General.Highest.Education.CollegeTRUE + General.Highest.Education.UniversityTRUE + General.Age + Lifestyle.Drugs.Current\\_smokerTRUE & alpha & 1330 & 0:1284, 1:46  & NA\\\\\n",
       "\t mda.alpha.shannon & General.Highest.Education.CollegeTRUE            & -0.154516114 & 0.27914831 & -0.55352696 & 5.799964e-01 & 7.851153e-01 & 7.851153e-01 & \\textasciitilde{}MenopauseTRUE + Reproductive.Contraception.Hormonal.3monthsTRUE + Health.Medication.Menopause.HRTTRUE + Reproductive.Pregnancy.n + General.Highest.Education.SecondaryeducationTRUE + General.Highest.Education.PhDTRUE + General.Highest.Education.CollegeTRUE + General.Highest.Education.UniversityTRUE + General.Age + Lifestyle.Drugs.Current\\_smokerTRUE & alpha & 1330 & 0:862, 1:468  & NA\\\\\n",
       "\t mda.alpha.shannon & General.Highest.Education.UniversityTRUE         & -0.221477299 & 0.27878667 & -0.79443287 & 4.270864e-01 & 7.851153e-01 & 7.851153e-01 & \\textasciitilde{}MenopauseTRUE + Reproductive.Contraception.Hormonal.3monthsTRUE + Health.Medication.Menopause.HRTTRUE + Reproductive.Pregnancy.n + General.Highest.Education.SecondaryeducationTRUE + General.Highest.Education.PhDTRUE + General.Highest.Education.CollegeTRUE + General.Highest.Education.UniversityTRUE + General.Age + Lifestyle.Drugs.Current\\_smokerTRUE & alpha & 1330 & 0:811, 1:519  & NA\\\\\n",
       "\t mda.alpha.shannon & General.Age                                      &  0.187418007 & 0.03274892 &  5.72287539 & 1.294841e-08 & 1.424325e-07 & 1.424325e-07 & \\textasciitilde{}MenopauseTRUE + Reproductive.Contraception.Hormonal.3monthsTRUE + Health.Medication.Menopause.HRTTRUE + Reproductive.Pregnancy.n + General.Highest.Education.SecondaryeducationTRUE + General.Highest.Education.PhDTRUE + General.Highest.Education.CollegeTRUE + General.Highest.Education.UniversityTRUE + General.Age + Lifestyle.Drugs.Current\\_smokerTRUE & alpha & 1330 &               & NA\\\\\n",
       "\t mda.alpha.shannon & Lifestyle.Drugs.Current\\_smokerTRUE               &  0.360197772 & 0.10563200 &  3.40993038 & 6.694198e-04 & 3.681809e-03 & 3.681809e-03 & \\textasciitilde{}MenopauseTRUE + Reproductive.Contraception.Hormonal.3monthsTRUE + Health.Medication.Menopause.HRTTRUE + Reproductive.Pregnancy.n + General.Highest.Education.SecondaryeducationTRUE + General.Highest.Education.PhDTRUE + General.Highest.Education.CollegeTRUE + General.Highest.Education.UniversityTRUE + General.Age + Lifestyle.Drugs.Current\\_smokerTRUE & alpha & 1330 & 0:1225, 1:105 & NA\\\\\n",
       "\\end{tabular}\n"
      ],
      "text/markdown": [
       "\n",
       "A data.frame: 11 × 13\n",
       "\n",
       "| taxa &lt;chr&gt; | variable &lt;chr&gt; | effectsize &lt;dbl&gt; | se &lt;dbl&gt; | stat &lt;dbl&gt; | pvalue &lt;dbl&gt; | qvalue.withinformula &lt;dbl&gt; | qvalue &lt;dbl&gt; | formula &lt;chr&gt; | method &lt;chr&gt; | n &lt;chr&gt; | freq &lt;chr&gt; | comment &lt;list&gt; |\n",
       "|---|---|---|---|---|---|---|---|---|---|---|---|---|\n",
       "| mda.alpha.shannon | (Intercept)                                      |  0.163932981 | 0.27654761 |  0.59278393 | 5.534274e-01 | 7.851153e-01 | 7.851153e-01 | ~MenopauseTRUE + Reproductive.Contraception.Hormonal.3monthsTRUE + Health.Medication.Menopause.HRTTRUE + Reproductive.Pregnancy.n + General.Highest.Education.SecondaryeducationTRUE + General.Highest.Education.PhDTRUE + General.Highest.Education.CollegeTRUE + General.Highest.Education.UniversityTRUE + General.Age + Lifestyle.Drugs.Current_smokerTRUE | alpha | NA   | NA            | NA |\n",
       "| mda.alpha.shannon | MenopauseTRUE                                    |  0.152201699 | 0.12716896 |  1.19684629 | 2.315815e-01 | 6.368492e-01 | 6.368492e-01 | ~MenopauseTRUE + Reproductive.Contraception.Hormonal.3monthsTRUE + Health.Medication.Menopause.HRTTRUE + Reproductive.Pregnancy.n + General.Highest.Education.SecondaryeducationTRUE + General.Highest.Education.PhDTRUE + General.Highest.Education.CollegeTRUE + General.Highest.Education.UniversityTRUE + General.Age + Lifestyle.Drugs.Current_smokerTRUE | alpha | 1330 | 0:1221, 1:109 | NA |\n",
       "| mda.alpha.shannon | Reproductive.Contraception.Hormonal.3monthsTRUE  |  0.127273787 | 0.06982832 |  1.82266720 | 6.858011e-02 | 2.514604e-01 | 2.514604e-01 | ~MenopauseTRUE + Reproductive.Contraception.Hormonal.3monthsTRUE + Health.Medication.Menopause.HRTTRUE + Reproductive.Pregnancy.n + General.Highest.Education.SecondaryeducationTRUE + General.Highest.Education.PhDTRUE + General.Highest.Education.CollegeTRUE + General.Highest.Education.UniversityTRUE + General.Age + Lifestyle.Drugs.Current_smokerTRUE | alpha | 1330 | 0:939, 1:391  | NA |\n",
       "| mda.alpha.shannon | Health.Medication.Menopause.HRTTRUE              | -0.027183988 | 0.59439221 | -0.04573409 | 9.635291e-01 | 9.635291e-01 | 9.635291e-01 | ~MenopauseTRUE + Reproductive.Contraception.Hormonal.3monthsTRUE + Health.Medication.Menopause.HRTTRUE + Reproductive.Pregnancy.n + General.Highest.Education.SecondaryeducationTRUE + General.Highest.Education.PhDTRUE + General.Highest.Education.CollegeTRUE + General.Highest.Education.UniversityTRUE + General.Age + Lifestyle.Drugs.Current_smokerTRUE | alpha | 1330 | 0:1327, 1:3   | NA |\n",
       "| mda.alpha.shannon | Reproductive.Pregnancy.n                         |  0.001843695 | 0.03217071 |  0.05730974 | 9.543071e-01 | 9.635291e-01 | 9.635291e-01 | ~MenopauseTRUE + Reproductive.Contraception.Hormonal.3monthsTRUE + Health.Medication.Menopause.HRTTRUE + Reproductive.Pregnancy.n + General.Highest.Education.SecondaryeducationTRUE + General.Highest.Education.PhDTRUE + General.Highest.Education.CollegeTRUE + General.Highest.Education.UniversityTRUE + General.Age + Lifestyle.Drugs.Current_smokerTRUE | alpha | 1330 | <!----> | NA |\n",
       "| mda.alpha.shannon | General.Highest.Education.SecondaryeducationTRUE | -0.130712605 | 0.28140565 | -0.46449886 | 6.423670e-01 | 7.851153e-01 | 7.851153e-01 | ~MenopauseTRUE + Reproductive.Contraception.Hormonal.3monthsTRUE + Health.Medication.Menopause.HRTTRUE + Reproductive.Pregnancy.n + General.Highest.Education.SecondaryeducationTRUE + General.Highest.Education.PhDTRUE + General.Highest.Education.CollegeTRUE + General.Highest.Education.UniversityTRUE + General.Age + Lifestyle.Drugs.Current_smokerTRUE | alpha | 1330 | 0:1047, 1:283 | NA |\n",
       "| mda.alpha.shannon | General.Highest.Education.PhDTRUE                |  0.146961508 | 0.31427565 |  0.46761977 | 6.401338e-01 | 7.851153e-01 | 7.851153e-01 | ~MenopauseTRUE + Reproductive.Contraception.Hormonal.3monthsTRUE + Health.Medication.Menopause.HRTTRUE + Reproductive.Pregnancy.n + General.Highest.Education.SecondaryeducationTRUE + General.Highest.Education.PhDTRUE + General.Highest.Education.CollegeTRUE + General.Highest.Education.UniversityTRUE + General.Age + Lifestyle.Drugs.Current_smokerTRUE | alpha | 1330 | 0:1284, 1:46  | NA |\n",
       "| mda.alpha.shannon | General.Highest.Education.CollegeTRUE            | -0.154516114 | 0.27914831 | -0.55352696 | 5.799964e-01 | 7.851153e-01 | 7.851153e-01 | ~MenopauseTRUE + Reproductive.Contraception.Hormonal.3monthsTRUE + Health.Medication.Menopause.HRTTRUE + Reproductive.Pregnancy.n + General.Highest.Education.SecondaryeducationTRUE + General.Highest.Education.PhDTRUE + General.Highest.Education.CollegeTRUE + General.Highest.Education.UniversityTRUE + General.Age + Lifestyle.Drugs.Current_smokerTRUE | alpha | 1330 | 0:862, 1:468  | NA |\n",
       "| mda.alpha.shannon | General.Highest.Education.UniversityTRUE         | -0.221477299 | 0.27878667 | -0.79443287 | 4.270864e-01 | 7.851153e-01 | 7.851153e-01 | ~MenopauseTRUE + Reproductive.Contraception.Hormonal.3monthsTRUE + Health.Medication.Menopause.HRTTRUE + Reproductive.Pregnancy.n + General.Highest.Education.SecondaryeducationTRUE + General.Highest.Education.PhDTRUE + General.Highest.Education.CollegeTRUE + General.Highest.Education.UniversityTRUE + General.Age + Lifestyle.Drugs.Current_smokerTRUE | alpha | 1330 | 0:811, 1:519  | NA |\n",
       "| mda.alpha.shannon | General.Age                                      |  0.187418007 | 0.03274892 |  5.72287539 | 1.294841e-08 | 1.424325e-07 | 1.424325e-07 | ~MenopauseTRUE + Reproductive.Contraception.Hormonal.3monthsTRUE + Health.Medication.Menopause.HRTTRUE + Reproductive.Pregnancy.n + General.Highest.Education.SecondaryeducationTRUE + General.Highest.Education.PhDTRUE + General.Highest.Education.CollegeTRUE + General.Highest.Education.UniversityTRUE + General.Age + Lifestyle.Drugs.Current_smokerTRUE | alpha | 1330 | <!----> | NA |\n",
       "| mda.alpha.shannon | Lifestyle.Drugs.Current_smokerTRUE               |  0.360197772 | 0.10563200 |  3.40993038 | 6.694198e-04 | 3.681809e-03 | 3.681809e-03 | ~MenopauseTRUE + Reproductive.Contraception.Hormonal.3monthsTRUE + Health.Medication.Menopause.HRTTRUE + Reproductive.Pregnancy.n + General.Highest.Education.SecondaryeducationTRUE + General.Highest.Education.PhDTRUE + General.Highest.Education.CollegeTRUE + General.Highest.Education.UniversityTRUE + General.Age + Lifestyle.Drugs.Current_smokerTRUE | alpha | 1330 | 0:1225, 1:105 | NA |\n",
       "\n"
      ],
      "text/plain": [
       "   taxa              variable                                        \n",
       "1  mda.alpha.shannon (Intercept)                                     \n",
       "2  mda.alpha.shannon MenopauseTRUE                                   \n",
       "3  mda.alpha.shannon Reproductive.Contraception.Hormonal.3monthsTRUE \n",
       "4  mda.alpha.shannon Health.Medication.Menopause.HRTTRUE             \n",
       "5  mda.alpha.shannon Reproductive.Pregnancy.n                        \n",
       "6  mda.alpha.shannon General.Highest.Education.SecondaryeducationTRUE\n",
       "7  mda.alpha.shannon General.Highest.Education.PhDTRUE               \n",
       "8  mda.alpha.shannon General.Highest.Education.CollegeTRUE           \n",
       "9  mda.alpha.shannon General.Highest.Education.UniversityTRUE        \n",
       "10 mda.alpha.shannon General.Age                                     \n",
       "11 mda.alpha.shannon Lifestyle.Drugs.Current_smokerTRUE              \n",
       "   effectsize   se         stat        pvalue       qvalue.withinformula\n",
       "1   0.163932981 0.27654761  0.59278393 5.534274e-01 7.851153e-01        \n",
       "2   0.152201699 0.12716896  1.19684629 2.315815e-01 6.368492e-01        \n",
       "3   0.127273787 0.06982832  1.82266720 6.858011e-02 2.514604e-01        \n",
       "4  -0.027183988 0.59439221 -0.04573409 9.635291e-01 9.635291e-01        \n",
       "5   0.001843695 0.03217071  0.05730974 9.543071e-01 9.635291e-01        \n",
       "6  -0.130712605 0.28140565 -0.46449886 6.423670e-01 7.851153e-01        \n",
       "7   0.146961508 0.31427565  0.46761977 6.401338e-01 7.851153e-01        \n",
       "8  -0.154516114 0.27914831 -0.55352696 5.799964e-01 7.851153e-01        \n",
       "9  -0.221477299 0.27878667 -0.79443287 4.270864e-01 7.851153e-01        \n",
       "10  0.187418007 0.03274892  5.72287539 1.294841e-08 1.424325e-07        \n",
       "11  0.360197772 0.10563200  3.40993038 6.694198e-04 3.681809e-03        \n",
       "   qvalue      \n",
       "1  7.851153e-01\n",
       "2  6.368492e-01\n",
       "3  2.514604e-01\n",
       "4  9.635291e-01\n",
       "5  9.635291e-01\n",
       "6  7.851153e-01\n",
       "7  7.851153e-01\n",
       "8  7.851153e-01\n",
       "9  7.851153e-01\n",
       "10 1.424325e-07\n",
       "11 3.681809e-03\n",
       "   formula                                                                                                                                                                                                                                                                                                                                                       \n",
       "1  ~MenopauseTRUE + Reproductive.Contraception.Hormonal.3monthsTRUE + Health.Medication.Menopause.HRTTRUE + Reproductive.Pregnancy.n + General.Highest.Education.SecondaryeducationTRUE + General.Highest.Education.PhDTRUE + General.Highest.Education.CollegeTRUE + General.Highest.Education.UniversityTRUE + General.Age + Lifestyle.Drugs.Current_smokerTRUE\n",
       "2  ~MenopauseTRUE + Reproductive.Contraception.Hormonal.3monthsTRUE + Health.Medication.Menopause.HRTTRUE + Reproductive.Pregnancy.n + General.Highest.Education.SecondaryeducationTRUE + General.Highest.Education.PhDTRUE + General.Highest.Education.CollegeTRUE + General.Highest.Education.UniversityTRUE + General.Age + Lifestyle.Drugs.Current_smokerTRUE\n",
       "3  ~MenopauseTRUE + Reproductive.Contraception.Hormonal.3monthsTRUE + Health.Medication.Menopause.HRTTRUE + Reproductive.Pregnancy.n + General.Highest.Education.SecondaryeducationTRUE + General.Highest.Education.PhDTRUE + General.Highest.Education.CollegeTRUE + General.Highest.Education.UniversityTRUE + General.Age + Lifestyle.Drugs.Current_smokerTRUE\n",
       "4  ~MenopauseTRUE + Reproductive.Contraception.Hormonal.3monthsTRUE + Health.Medication.Menopause.HRTTRUE + Reproductive.Pregnancy.n + General.Highest.Education.SecondaryeducationTRUE + General.Highest.Education.PhDTRUE + General.Highest.Education.CollegeTRUE + General.Highest.Education.UniversityTRUE + General.Age + Lifestyle.Drugs.Current_smokerTRUE\n",
       "5  ~MenopauseTRUE + Reproductive.Contraception.Hormonal.3monthsTRUE + Health.Medication.Menopause.HRTTRUE + Reproductive.Pregnancy.n + General.Highest.Education.SecondaryeducationTRUE + General.Highest.Education.PhDTRUE + General.Highest.Education.CollegeTRUE + General.Highest.Education.UniversityTRUE + General.Age + Lifestyle.Drugs.Current_smokerTRUE\n",
       "6  ~MenopauseTRUE + Reproductive.Contraception.Hormonal.3monthsTRUE + Health.Medication.Menopause.HRTTRUE + Reproductive.Pregnancy.n + General.Highest.Education.SecondaryeducationTRUE + General.Highest.Education.PhDTRUE + General.Highest.Education.CollegeTRUE + General.Highest.Education.UniversityTRUE + General.Age + Lifestyle.Drugs.Current_smokerTRUE\n",
       "7  ~MenopauseTRUE + Reproductive.Contraception.Hormonal.3monthsTRUE + Health.Medication.Menopause.HRTTRUE + Reproductive.Pregnancy.n + General.Highest.Education.SecondaryeducationTRUE + General.Highest.Education.PhDTRUE + General.Highest.Education.CollegeTRUE + General.Highest.Education.UniversityTRUE + General.Age + Lifestyle.Drugs.Current_smokerTRUE\n",
       "8  ~MenopauseTRUE + Reproductive.Contraception.Hormonal.3monthsTRUE + Health.Medication.Menopause.HRTTRUE + Reproductive.Pregnancy.n + General.Highest.Education.SecondaryeducationTRUE + General.Highest.Education.PhDTRUE + General.Highest.Education.CollegeTRUE + General.Highest.Education.UniversityTRUE + General.Age + Lifestyle.Drugs.Current_smokerTRUE\n",
       "9  ~MenopauseTRUE + Reproductive.Contraception.Hormonal.3monthsTRUE + Health.Medication.Menopause.HRTTRUE + Reproductive.Pregnancy.n + General.Highest.Education.SecondaryeducationTRUE + General.Highest.Education.PhDTRUE + General.Highest.Education.CollegeTRUE + General.Highest.Education.UniversityTRUE + General.Age + Lifestyle.Drugs.Current_smokerTRUE\n",
       "10 ~MenopauseTRUE + Reproductive.Contraception.Hormonal.3monthsTRUE + Health.Medication.Menopause.HRTTRUE + Reproductive.Pregnancy.n + General.Highest.Education.SecondaryeducationTRUE + General.Highest.Education.PhDTRUE + General.Highest.Education.CollegeTRUE + General.Highest.Education.UniversityTRUE + General.Age + Lifestyle.Drugs.Current_smokerTRUE\n",
       "11 ~MenopauseTRUE + Reproductive.Contraception.Hormonal.3monthsTRUE + Health.Medication.Menopause.HRTTRUE + Reproductive.Pregnancy.n + General.Highest.Education.SecondaryeducationTRUE + General.Highest.Education.PhDTRUE + General.Highest.Education.CollegeTRUE + General.Highest.Education.UniversityTRUE + General.Age + Lifestyle.Drugs.Current_smokerTRUE\n",
       "   method n    freq          comment\n",
       "1  alpha  NA   NA            NA     \n",
       "2  alpha  1330 0:1221, 1:109 NA     \n",
       "3  alpha  1330 0:939, 1:391  NA     \n",
       "4  alpha  1330 0:1327, 1:3   NA     \n",
       "5  alpha  1330               NA     \n",
       "6  alpha  1330 0:1047, 1:283 NA     \n",
       "7  alpha  1330 0:1284, 1:46  NA     \n",
       "8  alpha  1330 0:862, 1:468  NA     \n",
       "9  alpha  1330 0:811, 1:519  NA     \n",
       "10 alpha  1330               NA     \n",
       "11 alpha  1330 0:1225, 1:105 NA     "
      ]
     },
     "metadata": {},
     "output_type": "display_data"
    }
   ],
   "source": [
    "R$res.full"
   ]
  },
  {
   "cell_type": "code",
   "execution_count": null,
   "id": "84f61f07-f73f-48cb-b754-eaa593ba881f",
   "metadata": {},
   "outputs": [],
   "source": []
  }
 ],
 "metadata": {
  "kernelspec": {
   "display_name": "R [conda env:mda2]",
   "language": "R",
   "name": "conda-env-mda2-r"
  },
  "language_info": {
   "codemirror_mode": "r",
   "file_extension": ".r",
   "mimetype": "text/x-r-source",
   "name": "R",
   "pygments_lexer": "r",
   "version": "4.3.2"
  }
 },
 "nbformat": 4,
 "nbformat_minor": 5
}
